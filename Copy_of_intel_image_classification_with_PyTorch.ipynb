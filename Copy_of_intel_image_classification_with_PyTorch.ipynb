{
  "metadata": {
    "kernelspec": {
      "display_name": "Python 3",
      "name": "python3"
    },
    "language_info": {
      "name": "python",
      "version": "3.10.14",
      "mimetype": "text/x-python",
      "codemirror_mode": {
        "name": "ipython",
        "version": 3
      },
      "pygments_lexer": "ipython3",
      "nbconvert_exporter": "python",
      "file_extension": ".py"
    },
    "kaggle": {
      "accelerator": "nvidiaTeslaT4",
      "dataSources": [
        {
          "sourceId": 269359,
          "sourceType": "datasetVersion",
          "datasetId": 111880
        }
      ],
      "dockerImageVersionId": 30787,
      "isInternetEnabled": true,
      "language": "python",
      "sourceType": "notebook",
      "isGpuEnabled": true
    },
    "colab": {
      "provenance": [],
      "include_colab_link": true
    }
  },
  "nbformat_minor": 0,
  "nbformat": 4,
  "cells": [
    {
      "cell_type": "markdown",
      "metadata": {
        "id": "view-in-github",
        "colab_type": "text"
      },
      "source": [
        "<a href=\"https://colab.research.google.com/github/SalwaMustafa/Image-Classification/blob/main/Copy_of_intel_image_classification_with_PyTorch.ipynb\" target=\"_parent\"><img src=\"https://colab.research.google.com/assets/colab-badge.svg\" alt=\"Open In Colab\"/></a>"
      ]
    },
    {
      "source": [
        "# IMPORTANT: RUN THIS CELL IN ORDER TO IMPORT YOUR KAGGLE DATA SOURCES,\n",
        "# THEN FEEL FREE TO DELETE THIS CELL.\n",
        "# NOTE: THIS NOTEBOOK ENVIRONMENT DIFFERS FROM KAGGLE'S PYTHON\n",
        "# ENVIRONMENT SO THERE MAY BE MISSING LIBRARIES USED BY YOUR\n",
        "# NOTEBOOK.\n",
        "import kagglehub\n",
        "puneet6060_intel_image_classification_path = kagglehub.dataset_download('puneet6060/intel-image-classification')\n",
        "\n",
        "print('Data source import complete.')\n"
      ],
      "metadata": {
        "id": "TnxGh0qCz2f_",
        "outputId": "48cf1809-4953-4b13-adb5-87c52646ee53",
        "colab": {
          "base_uri": "https://localhost:8080/"
        }
      },
      "cell_type": "code",
      "outputs": [
        {
          "output_type": "stream",
          "name": "stdout",
          "text": [
            "Downloading from https://www.kaggle.com/api/v1/datasets/download/puneet6060/intel-image-classification?dataset_version_number=2...\n"
          ]
        },
        {
          "output_type": "stream",
          "name": "stderr",
          "text": [
            "100%|██████████| 346M/346M [00:03<00:00, 113MB/s]"
          ]
        },
        {
          "output_type": "stream",
          "name": "stdout",
          "text": [
            "Extracting files...\n"
          ]
        },
        {
          "output_type": "stream",
          "name": "stderr",
          "text": [
            "\n"
          ]
        },
        {
          "output_type": "stream",
          "name": "stdout",
          "text": [
            "Data source import complete.\n"
          ]
        }
      ],
      "execution_count": null
    },
    {
      "cell_type": "code",
      "source": [
        "import os\n",
        "from PIL import Image\n",
        "import matplotlib.pyplot as plt\n",
        "import random\n",
        "import torch\n",
        "from torch.utils.data import Dataset , DataLoader\n",
        "from torchvision.transforms import v2\n",
        "import torch.nn as nn\n",
        "from torchvision import models\n",
        "import warnings\n",
        "warnings.filterwarnings(\"ignore\")"
      ],
      "metadata": {
        "execution": {
          "iopub.status.busy": "2024-10-15T21:09:20.719916Z",
          "iopub.execute_input": "2024-10-15T21:09:20.72076Z",
          "iopub.status.idle": "2024-10-15T21:09:28.701662Z",
          "shell.execute_reply.started": "2024-10-15T21:09:20.72072Z",
          "shell.execute_reply": "2024-10-15T21:09:28.7007Z"
        },
        "trusted": true,
        "id": "FR10QWe6z2gB"
      },
      "execution_count": null,
      "outputs": []
    },
    {
      "cell_type": "code",
      "source": [
        "train_path = os.path.join(puneet6060_intel_image_classification_path, 'seg_train', 'seg_train')"
      ],
      "metadata": {
        "id": "FSIEpxv80QWb"
      },
      "execution_count": null,
      "outputs": []
    },
    {
      "cell_type": "code",
      "source": [
        "test_path = os.path.join(puneet6060_intel_image_classification_path, 'seg_test', 'seg_test')"
      ],
      "metadata": {
        "id": "e_Hg2Tbx3pt9"
      },
      "execution_count": null,
      "outputs": []
    },
    {
      "cell_type": "code",
      "source": [
        "train_dirs = os.listdir(train_path)\n",
        "print(len(train_dirs))\n",
        "print(train_dirs)"
      ],
      "metadata": {
        "execution": {
          "iopub.status.busy": "2024-10-15T21:09:50.549314Z",
          "iopub.execute_input": "2024-10-15T21:09:50.549955Z",
          "iopub.status.idle": "2024-10-15T21:09:50.565065Z",
          "shell.execute_reply.started": "2024-10-15T21:09:50.549901Z",
          "shell.execute_reply": "2024-10-15T21:09:50.563533Z"
        },
        "trusted": true,
        "id": "zHSGWmCXz2gD",
        "outputId": "7152477f-8019-47c1-b9da-6969ff0c5eb9",
        "colab": {
          "base_uri": "https://localhost:8080/"
        }
      },
      "execution_count": null,
      "outputs": [
        {
          "output_type": "stream",
          "name": "stdout",
          "text": [
            "6\n",
            "['street', 'mountain', 'buildings', 'glacier', 'forest', 'sea']\n"
          ]
        }
      ]
    },
    {
      "cell_type": "code",
      "source": [
        "test_dirs = os.listdir(test_path)\n",
        "print(len(test_dirs))\n",
        "print(test_dirs)"
      ],
      "metadata": {
        "id": "vD79UGjv34Fx",
        "outputId": "8b01585d-6ac9-43c3-ef35-1d28fca6355e",
        "colab": {
          "base_uri": "https://localhost:8080/"
        }
      },
      "execution_count": null,
      "outputs": [
        {
          "output_type": "stream",
          "name": "stdout",
          "text": [
            "6\n",
            "['street', 'mountain', 'buildings', 'glacier', 'forest', 'sea']\n"
          ]
        }
      ]
    },
    {
      "cell_type": "code",
      "source": [
        "total_train_images = 0\n",
        "train = []\n",
        "for file_name in train_dirs:\n",
        "    dir_path = train_path + '/' + file_name\n",
        "    print(f'There are {len(os.listdir(dir_path))} images in {file_name} file')\n",
        "    total_train_images += len(os.listdir(dir_path))\n",
        "\n",
        "    for _ in os.listdir(dir_path):\n",
        "        path = os.path.join(dir_path,_)\n",
        "        train.append([path,file_name])\n",
        "\n",
        "print(f\"There are {total_train_images} train images \")\n",
        "print(len(train))"
      ],
      "metadata": {
        "execution": {
          "iopub.status.busy": "2024-10-15T21:09:55.434956Z",
          "iopub.execute_input": "2024-10-15T21:09:55.435335Z",
          "iopub.status.idle": "2024-10-15T21:09:56.762106Z",
          "shell.execute_reply.started": "2024-10-15T21:09:55.435299Z",
          "shell.execute_reply": "2024-10-15T21:09:56.761142Z"
        },
        "trusted": true,
        "id": "7sx8U-x6z2gD",
        "outputId": "cca6d812-6314-474f-c13c-a449b18176e9",
        "colab": {
          "base_uri": "https://localhost:8080/"
        }
      },
      "execution_count": null,
      "outputs": [
        {
          "output_type": "stream",
          "name": "stdout",
          "text": [
            "There are 2382 images in street file\n",
            "There are 2512 images in mountain file\n",
            "There are 2191 images in buildings file\n",
            "There are 2404 images in glacier file\n",
            "There are 2271 images in forest file\n",
            "There are 2274 images in sea file\n",
            "There are 14034 train images \n",
            "14034\n"
          ]
        }
      ]
    },
    {
      "cell_type": "code",
      "source": [
        "total_test_images = 0\n",
        "test = []\n",
        "for file_name in test_dirs:\n",
        "\n",
        "    dir_path = test_path + '/' + file_name\n",
        "    print(f'There are {len(os.listdir(dir_path))} images in {file_name} file')\n",
        "    total_test_images += len(os.listdir(dir_path))\n",
        "\n",
        "    for _ in os.listdir(dir_path):\n",
        "        path = os.path.join(dir_path,_)\n",
        "        test.append([path,file_name])\n",
        "\n",
        "print(f\"There are {total_test_images} test images \")\n",
        "print(len(test))"
      ],
      "metadata": {
        "id": "koxLPTjG4CGs",
        "outputId": "091ff93d-ad92-4b29-9ea2-c4f3b066dbbf",
        "colab": {
          "base_uri": "https://localhost:8080/"
        }
      },
      "execution_count": null,
      "outputs": [
        {
          "output_type": "stream",
          "name": "stdout",
          "text": [
            "There are 501 images in street file\n",
            "There are 525 images in mountain file\n",
            "There are 437 images in buildings file\n",
            "There are 553 images in glacier file\n",
            "There are 474 images in forest file\n",
            "There are 510 images in sea file\n",
            "There are 3000 test images \n",
            "3000\n"
          ]
        }
      ]
    },
    {
      "cell_type": "code",
      "source": [
        "img = Image.open(train[3000][0])\n",
        "print(train[3000][1])\n",
        "img"
      ],
      "metadata": {
        "execution": {
          "iopub.status.busy": "2024-10-15T18:50:26.780418Z",
          "iopub.execute_input": "2024-10-15T18:50:26.7808Z",
          "iopub.status.idle": "2024-10-15T18:50:26.800436Z",
          "shell.execute_reply.started": "2024-10-15T18:50:26.780762Z",
          "shell.execute_reply": "2024-10-15T18:50:26.799524Z"
        },
        "trusted": true,
        "id": "er2rxZQQz2gH",
        "outputId": "b23a37e5-377a-4369-db40-5f9de7ae5b11",
        "colab": {
          "base_uri": "https://localhost:8080/",
          "height": 185
        }
      },
      "execution_count": null,
      "outputs": [
        {
          "output_type": "stream",
          "name": "stdout",
          "text": [
            "mountain\n"
          ]
        },
        {
          "output_type": "execute_result",
          "data": {
            "text/plain": [
              "<PIL.JpegImagePlugin.JpegImageFile image mode=RGB size=150x150>"
            ],
            "image/png": "[encoded data removed]",
            "image/jpeg": "[encoded data removed]"
          },
          "metadata": {},
          "execution_count": 11
        }
      ]
    },
    {
      "cell_type": "code",
      "source": [
        "random.seed(42)\n",
        "random.shuffle(train)\n",
        "random.shuffle(test)"
      ],
      "metadata": {
        "execution": {
          "iopub.status.busy": "2024-10-15T21:10:09.183388Z",
          "iopub.execute_input": "2024-10-15T21:10:09.184107Z",
          "iopub.status.idle": "2024-10-15T21:10:09.203962Z",
          "shell.execute_reply.started": "2024-10-15T21:10:09.18407Z",
          "shell.execute_reply": "2024-10-15T21:10:09.203091Z"
        },
        "trusted": true,
        "id": "NKeh7BEuz2gI"
      },
      "execution_count": null,
      "outputs": []
    },
    {
      "cell_type": "code",
      "source": [
        "class_names = ['buildings','forest','glacier','mountain','sea','street']\n",
        "class_labels = {class_name:i for i, class_name in enumerate(class_names)}\n",
        "print(class_labels)"
      ],
      "metadata": {
        "execution": {
          "iopub.status.busy": "2024-10-15T21:10:12.244286Z",
          "iopub.execute_input": "2024-10-15T21:10:12.245113Z",
          "iopub.status.idle": "2024-10-15T21:10:12.250043Z",
          "shell.execute_reply.started": "2024-10-15T21:10:12.245074Z",
          "shell.execute_reply": "2024-10-15T21:10:12.249128Z"
        },
        "trusted": true,
        "id": "XvQGN3rYz2gI",
        "outputId": "821c10e6-15b6-4290-f659-fc9ce255afeb",
        "colab": {
          "base_uri": "https://localhost:8080/"
        }
      },
      "execution_count": null,
      "outputs": [
        {
          "output_type": "stream",
          "name": "stdout",
          "text": [
            "{'buildings': 0, 'forest': 1, 'glacier': 2, 'mountain': 3, 'sea': 4, 'street': 5}\n"
          ]
        }
      ]
    },
    {
      "cell_type": "code",
      "source": [
        "train_transform = v2.Compose(\n",
        "    [\n",
        "        v2.Resize((299,299)),\n",
        "        v2.RandomHorizontalFlip(p=0.5),\n",
        "        v2.ColorJitter(brightness=0.5, contrast=0.5, saturation=0.5, hue=0.2),\n",
        "        v2.PILToTensor(),\n",
        "        v2.ToDtype(torch.float32 , scale = True),\n",
        "        v2.Normalize(mean=[0.485, 0.456, 0.406],std=[0.229, 0.224, 0.225])\n",
        "    ])\n",
        "test_transform = v2.Compose(\n",
        "    [\n",
        "        v2.Resize((299,299)),\n",
        "        v2.PILToTensor(),\n",
        "        v2.ToDtype(torch.float32 , scale = True),\n",
        "        v2.Normalize(mean=[0.485, 0.456, 0.406],std=[0.229, 0.224, 0.225])\n",
        "    ])"
      ],
      "metadata": {
        "execution": {
          "iopub.status.busy": "2024-10-15T21:11:30.825081Z",
          "iopub.execute_input": "2024-10-15T21:11:30.825464Z",
          "iopub.status.idle": "2024-10-15T21:11:30.83343Z",
          "shell.execute_reply.started": "2024-10-15T21:11:30.825428Z",
          "shell.execute_reply": "2024-10-15T21:11:30.832557Z"
        },
        "trusted": true,
        "id": "BxBCwKPzz2gM"
      },
      "execution_count": null,
      "outputs": []
    },
    {
      "cell_type": "code",
      "source": [
        "class dataset(Dataset):\n",
        "    def __init__(self , paths , transform = None ):\n",
        "\n",
        "        self.paths = paths\n",
        "        self.transform = transform\n",
        "\n",
        "    def __getitem__(self,index):\n",
        "\n",
        "        img = Image.open(self.paths[index][0])\n",
        "        label = int(class_labels[self.paths[index][1]])\n",
        "\n",
        "        if self.transform:\n",
        "            img = self.transform(img)\n",
        "\n",
        "        return img , label\n",
        "\n",
        "    def __len__(self):\n",
        "        return len(self.paths)"
      ],
      "metadata": {
        "execution": {
          "iopub.status.busy": "2024-10-15T21:10:20.366251Z",
          "iopub.execute_input": "2024-10-15T21:10:20.367041Z",
          "iopub.status.idle": "2024-10-15T21:10:20.373124Z",
          "shell.execute_reply.started": "2024-10-15T21:10:20.366989Z",
          "shell.execute_reply": "2024-10-15T21:10:20.372229Z"
        },
        "trusted": true,
        "id": "kaz59bt9z2gJ"
      },
      "execution_count": null,
      "outputs": []
    },
    {
      "cell_type": "code",
      "source": [
        "train_data_tf = dataset(train , train_transform)\n",
        "test_data_tf = dataset(test , test_transform )\n",
        "train_loader_tf = DataLoader(train_data_tf , shuffle = True , batch_size = 32)\n",
        "test_loader_tf = DataLoader(test_data_tf , shuffle = True , batch_size = 32)"
      ],
      "metadata": {
        "execution": {
          "iopub.status.busy": "2024-10-15T21:11:35.538605Z",
          "iopub.execute_input": "2024-10-15T21:11:35.539424Z",
          "iopub.status.idle": "2024-10-15T21:11:35.544318Z",
          "shell.execute_reply.started": "2024-10-15T21:11:35.539385Z",
          "shell.execute_reply": "2024-10-15T21:11:35.543393Z"
        },
        "trusted": true,
        "id": "SJsfngQkz2gN"
      },
      "execution_count": null,
      "outputs": []
    },
    {
      "cell_type": "code",
      "source": [
        "model_tf = models.inception_v3(weights = \"IMAGENET1K_V1\")"
      ],
      "metadata": {
        "execution": {
          "iopub.status.busy": "2024-10-15T21:11:51.263378Z",
          "iopub.execute_input": "2024-10-15T21:11:51.264026Z",
          "iopub.status.idle": "2024-10-15T21:11:52.396187Z",
          "shell.execute_reply.started": "2024-10-15T21:11:51.263988Z",
          "shell.execute_reply": "2024-10-15T21:11:52.395383Z"
        },
        "trusted": true,
        "id": "s58xJ4i4z2gM",
        "outputId": "1709018b-d5eb-4ca0-8313-d47ad22a19c6",
        "colab": {
          "base_uri": "https://localhost:8080/"
        }
      },
      "execution_count": null,
      "outputs": [
        {
          "output_type": "stream",
          "name": "stderr",
          "text": [
            "Downloading: \"https://download.pytorch.org/models/inception_v3_google-0cc3c7bd.pth\" to /root/.cache/torch/hub/checkpoints/inception_v3_google-0cc3c7bd.pth\n",
            "100%|██████████| 104M/104M [00:00<00:00, 127MB/s] \n"
          ]
        }
      ]
    },
    {
      "cell_type": "code",
      "source": [
        "model_tf.aux_logits = False\n",
        "for parameter in model_tf.parameters():\n",
        "    parameter.requires_grad = False"
      ],
      "metadata": {
        "execution": {
          "iopub.status.busy": "2024-10-15T21:12:14.282963Z",
          "iopub.execute_input": "2024-10-15T21:12:14.283345Z",
          "iopub.status.idle": "2024-10-15T21:12:14.289711Z",
          "shell.execute_reply.started": "2024-10-15T21:12:14.283307Z",
          "shell.execute_reply": "2024-10-15T21:12:14.28857Z"
        },
        "trusted": true,
        "id": "k1KwAZQoz2gN"
      },
      "execution_count": null,
      "outputs": []
    },
    {
      "cell_type": "code",
      "source": [
        "num_of_calsses = 6\n",
        "model_tf.fc = nn.Linear(model_tf.fc.in_features, num_of_calsses)"
      ],
      "metadata": {
        "execution": {
          "iopub.status.busy": "2024-10-15T21:12:18.883999Z",
          "iopub.execute_input": "2024-10-15T21:12:18.884375Z",
          "iopub.status.idle": "2024-10-15T21:12:18.890426Z",
          "shell.execute_reply.started": "2024-10-15T21:12:18.88434Z",
          "shell.execute_reply": "2024-10-15T21:12:18.889522Z"
        },
        "trusted": true,
        "id": "52TutRv5z2gN"
      },
      "execution_count": null,
      "outputs": []
    },
    {
      "cell_type": "code",
      "source": [
        "for parameter in model_tf.fc.parameters():\n",
        "    print(parameter.requires_grad)"
      ],
      "metadata": {
        "execution": {
          "iopub.status.busy": "2024-10-15T21:12:23.215848Z",
          "iopub.execute_input": "2024-10-15T21:12:23.216241Z",
          "iopub.status.idle": "2024-10-15T21:12:23.221612Z",
          "shell.execute_reply.started": "2024-10-15T21:12:23.216199Z",
          "shell.execute_reply": "2024-10-15T21:12:23.220642Z"
        },
        "trusted": true,
        "id": "Nz2OT1XTz2gN",
        "outputId": "3402cf4b-54f6-491e-b9ed-be6906ca01ab",
        "colab": {
          "base_uri": "https://localhost:8080/"
        }
      },
      "execution_count": null,
      "outputs": [
        {
          "output_type": "stream",
          "name": "stdout",
          "text": [
            "True\n",
            "True\n"
          ]
        }
      ]
    },
    {
      "cell_type": "code",
      "source": [
        "device = torch.device(\"cuda\" if torch.cuda.is_available() else \"cpu\")\n",
        "learning_rate = 0.005\n",
        "best_acc = 0\n",
        "criterion = nn.CrossEntropyLoss()\n",
        "optimizer = torch.optim.Adam([p for p in model_tf.parameters() if p.requires_grad], lr = learning_rate)\n",
        "scheduler = torch.optim.lr_scheduler.ReduceLROnPlateau(optimizer, factor=0.1, patience=5)\n",
        "train_losses = []\n",
        "test_losses = []\n",
        "best_score = float(\"inf\")"
      ],
      "metadata": {
        "execution": {
          "iopub.status.busy": "2024-10-15T21:12:32.762451Z",
          "iopub.execute_input": "2024-10-15T21:12:32.76285Z",
          "iopub.status.idle": "2024-10-15T21:12:32.828014Z",
          "shell.execute_reply.started": "2024-10-15T21:12:32.762812Z",
          "shell.execute_reply": "2024-10-15T21:12:32.82721Z"
        },
        "trusted": true,
        "id": "KfSUlU0cz2gN"
      },
      "execution_count": null,
      "outputs": []
    },
    {
      "cell_type": "code",
      "source": [
        "model_tf.to(device)"
      ],
      "metadata": {
        "execution": {
          "iopub.status.busy": "2024-10-15T21:12:36.907099Z",
          "iopub.execute_input": "2024-10-15T21:12:36.907466Z",
          "iopub.status.idle": "2024-10-15T21:12:37.200182Z",
          "shell.execute_reply.started": "2024-10-15T21:12:36.907433Z",
          "shell.execute_reply": "2024-10-15T21:12:37.199285Z"
        },
        "trusted": true,
        "id": "bm0xbwLxz2gS"
      },
      "execution_count": null,
      "outputs": []
    },
    {
      "cell_type": "code",
      "source": [
        "def train_epoch():\n",
        "    epoch_loss = 0\n",
        "    correct_predictions = 0\n",
        "    total_samples = 0\n",
        "    for i , (images , labels) in enumerate(train_loader_tf):\n",
        "\n",
        "        images = images.to(device)\n",
        "        labels = labels.to(device)\n",
        "\n",
        "        #forward propagation\n",
        "        out = model_tf(images)\n",
        "\n",
        "        _ , predicted = torch.max(out.data ,  dim=1)\n",
        "        total_samples += labels.size(0)\n",
        "        correct_predictions += (predicted == labels).sum().item()\n",
        "        loss = criterion(out , labels)\n",
        "        epoch_loss += loss\n",
        "\n",
        "        # back propagation\n",
        "        optimizer.zero_grad()\n",
        "        loss.backward()\n",
        "        optimizer.step()\n",
        "\n",
        "    return epoch_loss / len(train_loader_tf) , correct_predictions / total_samples"
      ],
      "metadata": {
        "execution": {
          "iopub.status.busy": "2024-10-15T21:12:45.810425Z",
          "iopub.execute_input": "2024-10-15T21:12:45.811111Z",
          "iopub.status.idle": "2024-10-15T21:12:45.818513Z",
          "shell.execute_reply.started": "2024-10-15T21:12:45.811072Z",
          "shell.execute_reply": "2024-10-15T21:12:45.817643Z"
        },
        "trusted": true,
        "id": "wVA4MFr1z2gS"
      },
      "execution_count": null,
      "outputs": []
    },
    {
      "cell_type": "code",
      "source": [
        "def get_test_loss():\n",
        "\n",
        "    epoch_loss = 0\n",
        "    correct_predictions = 0\n",
        "    total_samples = 0\n",
        "\n",
        "    with torch.no_grad():\n",
        "        for i , (images , labels) in enumerate(test_loader_tf):\n",
        "\n",
        "            images = images.to(device)\n",
        "            labels = labels.to(device)\n",
        "\n",
        "            #forward propagation\n",
        "            out = model_tf(images)\n",
        "\n",
        "            _ , predicted = torch.max(out.data ,  dim=1)\n",
        "            total_samples += labels.size(0)\n",
        "            correct_predictions += (predicted == labels).sum().item()\n",
        "\n",
        "            loss = criterion(out , labels)\n",
        "            epoch_loss += loss\n",
        "\n",
        "    return epoch_loss / len(test_loader_tf) , correct_predictions / total_samples"
      ],
      "metadata": {
        "execution": {
          "iopub.status.busy": "2024-10-15T21:12:50.735594Z",
          "iopub.execute_input": "2024-10-15T21:12:50.736337Z",
          "iopub.status.idle": "2024-10-15T21:12:50.742875Z",
          "shell.execute_reply.started": "2024-10-15T21:12:50.736298Z",
          "shell.execute_reply": "2024-10-15T21:12:50.741997Z"
        },
        "trusted": true,
        "id": "HTjVDWzSz2gS"
      },
      "execution_count": null,
      "outputs": []
    },
    {
      "cell_type": "code",
      "source": [
        "from google.colab import drive\n",
        "drive.mount('/content/drive')"
      ],
      "metadata": {
        "id": "mAerD5Ik6ZWI",
        "outputId": "2707574b-f735-4426-fbe4-0cab789281dc",
        "colab": {
          "base_uri": "https://localhost:8080/"
        }
      },
      "execution_count": null,
      "outputs": [
        {
          "output_type": "stream",
          "name": "stdout",
          "text": [
            "Mounted at /content/drive\n"
          ]
        }
      ]
    },
    {
      "cell_type": "code",
      "source": [
        "weights_path = '/content/drive/MyDrive/model_weights/inception_v3_weights.pth'"
      ],
      "metadata": {
        "id": "rBSPfSWjG_HX"
      },
      "execution_count": null,
      "outputs": []
    },
    {
      "cell_type": "code",
      "source": [
        "num_epochs = 20"
      ],
      "metadata": {
        "id": "kv2z3F8SHA21"
      },
      "execution_count": null,
      "outputs": []
    },
    {
      "cell_type": "code",
      "source": [
        "for epoch in range(num_epochs):\n",
        "\n",
        "    model_tf.train(True)\n",
        "    avg_train_epoch_loss , avg_train_epoch_acc = train_epoch()\n",
        "\n",
        "    model_tf.eval()\n",
        "    avg_test_epoch_loss , avg_test_epoch_acc = get_test_loss()\n",
        "\n",
        "    if(avg_test_epoch_loss < best_score):\n",
        "\n",
        "        best_score = avg_test_epoch_loss\n",
        "        best_acc = avg_test_epoch_acc\n",
        "        torch.save(model_tf.state_dict(), weights_path)\n",
        "\n",
        "\n",
        "    train_losses.append(avg_train_epoch_loss)\n",
        "    test_losses.append(avg_test_epoch_loss)\n",
        "\n",
        "    scheduler.step(avg_test_epoch_loss)\n",
        "    current_lr = optimizer.param_groups[0]['lr']\n",
        "\n",
        "    print(f\"epoch : {epoch+1} --- Avg_Train_Loss = {avg_train_epoch_loss} --- Avg_Test_Loss = {avg_test_epoch_loss}\")\n",
        "    print(f\"          --- Avg_Train_Acc = {avg_train_epoch_acc} --- Avg_Test_Acc = {avg_test_epoch_acc}\")\n",
        "    print(f\"          --- Best Acc = {best_acc:.6f}\")\n",
        "    print(f\"          --- Current Learning Rate = {current_lr:.6f}\")\n",
        "    print(\"=\"*100)"
      ],
      "metadata": {
        "execution": {
          "iopub.status.busy": "2024-10-15T21:12:55.724295Z",
          "iopub.execute_input": "2024-10-15T21:12:55.725036Z",
          "iopub.status.idle": "2024-10-15T22:35:52.957761Z",
          "shell.execute_reply.started": "2024-10-15T21:12:55.724997Z",
          "shell.execute_reply": "2024-10-15T22:35:52.956562Z"
        },
        "trusted": true,
        "id": "Iyl7rJJZz2gS",
        "outputId": "549ce379-21c8-441c-dcf3-2604c0d915d2",
        "colab": {
          "base_uri": "https://localhost:8080/"
        }
      },
      "execution_count": null,
      "outputs": [
        {
          "output_type": "stream",
          "name": "stdout",
          "text": [
            "epoch : 1 --- Avg_Train_Loss = 0.611046552658081 --- Avg_Test_Loss = 0.34558141231536865\n",
            "          --- Avg_Train_Acc = 0.784808322645005 --- Avg_Test_Acc = 0.871\n",
            "          --- Best Acc = 0.871000\n",
            "          --- Current Learning Rate = 0.005000\n",
            "====================================================================================================\n",
            "epoch : 2 --- Avg_Train_Loss = 0.6079246997833252 --- Avg_Test_Loss = 0.337643563747406\n",
            "          --- Avg_Train_Acc = 0.8106740772409862 --- Avg_Test_Acc = 0.887\n",
            "          --- Best Acc = 0.887000\n",
            "          --- Current Learning Rate = 0.005000\n",
            "====================================================================================================\n",
            "epoch : 3 --- Avg_Train_Loss = 0.6511861085891724 --- Avg_Test_Loss = 0.3144219219684601\n",
            "          --- Avg_Train_Acc = 0.811101610374804 --- Avg_Test_Acc = 0.8903333333333333\n",
            "          --- Best Acc = 0.890333\n",
            "          --- Current Learning Rate = 0.005000\n",
            "====================================================================================================\n",
            "epoch : 4 --- Avg_Train_Loss = 0.6404024362564087 --- Avg_Test_Loss = 0.3216417729854584\n",
            "          --- Avg_Train_Acc = 0.8190822288727376 --- Avg_Test_Acc = 0.8926666666666667\n",
            "          --- Best Acc = 0.890333\n",
            "          --- Current Learning Rate = 0.005000\n",
            "====================================================================================================\n",
            "epoch : 5 --- Avg_Train_Loss = 0.6971401572227478 --- Avg_Test_Loss = 0.36111748218536377\n",
            "          --- Avg_Train_Acc = 0.8133105315661964 --- Avg_Test_Acc = 0.8793333333333333\n",
            "          --- Best Acc = 0.890333\n",
            "          --- Current Learning Rate = 0.005000\n",
            "====================================================================================================\n",
            "epoch : 6 --- Avg_Train_Loss = 0.6997319459915161 --- Avg_Test_Loss = 0.36430034041404724\n",
            "          --- Avg_Train_Acc = 0.814236853356135 --- Avg_Test_Acc = 0.8826666666666667\n",
            "          --- Best Acc = 0.890333\n",
            "          --- Current Learning Rate = 0.005000\n",
            "====================================================================================================\n",
            "epoch : 7 --- Avg_Train_Loss = 0.7198639512062073 --- Avg_Test_Loss = 0.381407231092453\n",
            "          --- Avg_Train_Acc = 0.8160894969360125 --- Avg_Test_Acc = 0.884\n",
            "          --- Best Acc = 0.890333\n",
            "          --- Current Learning Rate = 0.005000\n",
            "====================================================================================================\n",
            "epoch : 8 --- Avg_Train_Loss = 0.7019028067588806 --- Avg_Test_Loss = 0.40472105145454407\n",
            "          --- Avg_Train_Acc = 0.8175858629043751 --- Avg_Test_Acc = 0.868\n",
            "          --- Best Acc = 0.890333\n",
            "          --- Current Learning Rate = 0.005000\n",
            "====================================================================================================\n",
            "epoch : 9 --- Avg_Train_Loss = 0.7377113699913025 --- Avg_Test_Loss = 0.4700183868408203\n",
            "          --- Avg_Train_Acc = 0.8158044748468006 --- Avg_Test_Acc = 0.858\n",
            "          --- Best Acc = 0.890333\n",
            "          --- Current Learning Rate = 0.000500\n",
            "====================================================================================================\n",
            "epoch : 10 --- Avg_Train_Loss = 0.616916835308075 --- Avg_Test_Loss = 0.3304401934146881\n",
            "          --- Avg_Train_Acc = 0.8349722103463019 --- Avg_Test_Acc = 0.8963333333333333\n",
            "          --- Best Acc = 0.890333\n",
            "          --- Current Learning Rate = 0.000500\n",
            "====================================================================================================\n",
            "epoch : 11 --- Avg_Train_Loss = 0.5813775658607483 --- Avg_Test_Loss = 0.3038736581802368\n",
            "          --- Avg_Train_Acc = 0.840957674219752 --- Avg_Test_Acc = 0.9026666666666666\n",
            "          --- Best Acc = 0.902667\n",
            "          --- Current Learning Rate = 0.000500\n",
            "====================================================================================================\n",
            "epoch : 12 --- Avg_Train_Loss = 0.575492262840271 --- Avg_Test_Loss = 0.3115198314189911\n",
            "          --- Avg_Train_Acc = 0.8388912640729657 --- Avg_Test_Acc = 0.9023333333333333\n",
            "          --- Best Acc = 0.902667\n",
            "          --- Current Learning Rate = 0.000500\n",
            "====================================================================================================\n",
            "epoch : 13 --- Avg_Train_Loss = 0.5439398288726807 --- Avg_Test_Loss = 0.29465487599372864\n",
            "          --- Avg_Train_Acc = 0.8433091064557503 --- Avg_Test_Acc = 0.9016666666666666\n",
            "          --- Best Acc = 0.901667\n",
            "          --- Current Learning Rate = 0.000500\n",
            "====================================================================================================\n",
            "epoch : 14 --- Avg_Train_Loss = 0.5363301038742065 --- Avg_Test_Loss = 0.30115634202957153\n",
            "          --- Avg_Train_Acc = 0.8418839960096908 --- Avg_Test_Acc = 0.8953333333333333\n",
            "          --- Best Acc = 0.901667\n",
            "          --- Current Learning Rate = 0.000500\n",
            "====================================================================================================\n",
            "epoch : 15 --- Avg_Train_Loss = 0.5210301876068115 --- Avg_Test_Loss = 0.27827829122543335\n",
            "          --- Avg_Train_Acc = 0.8465156049593844 --- Avg_Test_Acc = 0.9066666666666666\n",
            "          --- Best Acc = 0.906667\n",
            "          --- Current Learning Rate = 0.000500\n",
            "====================================================================================================\n",
            "epoch : 16 --- Avg_Train_Loss = 0.512652575969696 --- Avg_Test_Loss = 0.2688564956188202\n",
            "          --- Avg_Train_Acc = 0.8450192389910218 --- Avg_Test_Acc = 0.908\n",
            "          --- Best Acc = 0.908000\n",
            "          --- Current Learning Rate = 0.000500\n",
            "====================================================================================================\n",
            "epoch : 17 --- Avg_Train_Loss = 0.4725100100040436 --- Avg_Test_Loss = 0.28295230865478516\n",
            "          --- Avg_Train_Acc = 0.8487957816730797 --- Avg_Test_Acc = 0.8976666666666666\n",
            "          --- Best Acc = 0.908000\n",
            "          --- Current Learning Rate = 0.000500\n",
            "====================================================================================================\n",
            "epoch : 18 --- Avg_Train_Loss = 0.4884776771068573 --- Avg_Test_Loss = 0.28959164023399353\n",
            "          --- Avg_Train_Acc = 0.8474419267493231 --- Avg_Test_Acc = 0.8963333333333333\n",
            "          --- Best Acc = 0.908000\n",
            "          --- Current Learning Rate = 0.000500\n",
            "====================================================================================================\n",
            "epoch : 19 --- Avg_Train_Loss = 0.4772036373615265 --- Avg_Test_Loss = 0.27732667326927185\n",
            "          --- Avg_Train_Acc = 0.8452330055579308 --- Avg_Test_Acc = 0.902\n",
            "          --- Best Acc = 0.908000\n",
            "          --- Current Learning Rate = 0.000500\n",
            "====================================================================================================\n",
            "epoch : 20 --- Avg_Train_Loss = 0.4617641568183899 --- Avg_Test_Loss = 0.27430763840675354\n",
            "          --- Avg_Train_Acc = 0.8494370813738065 --- Avg_Test_Acc = 0.902\n",
            "          --- Best Acc = 0.908000\n",
            "          --- Current Learning Rate = 0.000500\n",
            "====================================================================================================\n"
          ]
        }
      ]
    }
  ]
}